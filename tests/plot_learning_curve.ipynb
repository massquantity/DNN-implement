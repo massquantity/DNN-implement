{
 "cells": [
  {
   "cell_type": "code",
   "execution_count": 1,
   "metadata": {},
   "outputs": [],
   "source": [
    "import os\n",
    "import sys\n",
    "sys.path.append(os.pardir)"
   ]
  },
  {
   "cell_type": "code",
   "execution_count": 2,
   "metadata": {},
   "outputs": [
    {
     "name": "stdout",
     "output_type": "stream",
     "text": [
      "/home/massquantity/Workspace/DNN_implementation\n"
     ]
    }
   ],
   "source": [
    "cd .."
   ]
  },
  {
   "cell_type": "code",
   "execution_count": 3,
   "metadata": {},
   "outputs": [],
   "source": [
    "import numpy as np\n",
    "import matplotlib.pyplot as plt\n",
    "%matplotlib inline\n",
    "plt.style.use(\"seaborn\")\n",
    "\n",
    "import random\n",
    "import time\n",
    "from DNN_implementation.data import cifar_data, mnist_2\n",
    "from DNN_implementation.model import Network, Network_mini_batch\n",
    "from DNN_implementation.train import train_DNN_minibatch\n",
    "from DNN_implementation import Sgd, Momentum, NesterovMomentum, Adam\n",
    "from DNN_implementation import Sigmoid, ReLU\n",
    "from DNN_implementation.evaluate import evaluate_batch"
   ]
  },
  {
   "cell_type": "code",
   "execution_count": 4,
   "metadata": {},
   "outputs": [],
   "source": [
    "def collect_metrics(X_train, y_train, num_epochs, optimizer, batch_size, network, X_test, y_test):\n",
    "    best_loss = np.infty\n",
    "    for epoch in range(1, num_epochs + 1):\n",
    "        random_mask = np.random.choice(len(X_train), len(X_train), replace=False)\n",
    "        X_train = X_train[random_mask]\n",
    "        y_train = y_train[random_mask]\n",
    "\n",
    "        for i in range(0, len(X_train), batch_size):\n",
    "            X_batch = X_train[i: i + batch_size]\n",
    "            y_batch = y_train[i: i + batch_size]\n",
    "            grad_w, grad_b = network.backprop(X_batch, y_batch)\n",
    "            optimizer.update(network.weights, network.biases, grad_w, grad_b)\n",
    "\n",
    "        train_loss, train_accuracy = evaluate_batch(X_train, y_train, network)\n",
    "        test_loss, test_accuracy = evaluate_batch(X_test, y_test, network)\n",
    "        if test_loss < best_loss:\n",
    "            best_loss = test_loss\n",
    "            count = 0\n",
    "        else:\n",
    "            count += 1\n",
    "\n",
    "        if count > 10:\n",
    "            print(\"Early Stopping in epoch %d !!!\" % epoch)\n",
    "            break\n",
    "    return train_loss, test_loss"
   ]
  },
  {
   "cell_type": "code",
   "execution_count": 5,
   "metadata": {},
   "outputs": [],
   "source": [
    "def plot_learning_curve(model, optimizer, num_epochs, batch_size):\n",
    "    train_total_loss, test_total_loss = [], []\n",
    "    for m in range(1000, len(X_train) + 5, 2000):\n",
    "        t0 = time.time()\n",
    "        network = model\n",
    "        train_loss, test_loss = collect_metrics(X_train[:m], y_train[:m], num_epochs, optimizer, \n",
    "                                              batch_size, network, X_test, y_test)\n",
    "        del network\n",
    "        train_total_loss.append(train_loss)\n",
    "        test_total_loss.append(test_loss)\n",
    "        print(\"dataset %d done in %d seconds\" % (m, time.time() - t0))\n",
    "        \n",
    "    return train_total_loss, test_total_loss"
   ]
  },
  {
   "cell_type": "code",
   "execution_count": 6,
   "metadata": {},
   "outputs": [],
   "source": [
    "(X_train, y_train), (X_test, y_test) = mnist_2.load_data()\n",
    "dnn = Network_mini_batch(sizes=[784, 300, 200, 10], activation=\"relu\", dropout_rate=0.0,  # 50\n",
    "                             weight_initializer=\"he\")\n",
    "optimizer = Momentum(lr=1e-3, momentum=0.9, batch_size=128)"
   ]
  },
  {
   "cell_type": "code",
   "execution_count": 7,
   "metadata": {
    "collapsed": true
   },
   "outputs": [
    {
     "name": "stdout",
     "output_type": "stream",
     "text": [
      "Early Stopping in epoch 291 !!!\n",
      "dataset 1000 done in 113 seconds\n",
      "Early Stopping in epoch 139 !!!\n",
      "dataset 3000 done in 77 seconds\n",
      "Early Stopping in epoch 144 !!!\n",
      "dataset 5000 done in 108 seconds\n",
      "Early Stopping in epoch 58 !!!\n",
      "dataset 7000 done in 52 seconds\n",
      "Early Stopping in epoch 120 !!!\n",
      "dataset 9000 done in 131 seconds\n",
      "Early Stopping in epoch 50 !!!\n",
      "dataset 11000 done in 64 seconds\n",
      "Early Stopping in epoch 68 !!!\n",
      "dataset 13000 done in 99 seconds\n",
      "Early Stopping in epoch 69 !!!\n",
      "dataset 15000 done in 117 seconds\n",
      "Early Stopping in epoch 76 !!!\n",
      "dataset 17000 done in 143 seconds\n",
      "Early Stopping in epoch 31 !!!\n",
      "dataset 19000 done in 64 seconds\n",
      "Early Stopping in epoch 54 !!!\n",
      "dataset 21000 done in 125 seconds\n",
      "Early Stopping in epoch 52 !!!\n",
      "dataset 23000 done in 131 seconds\n",
      "Early Stopping in epoch 64 !!!\n",
      "dataset 25000 done in 175 seconds\n",
      "Early Stopping in epoch 56 !!!\n",
      "dataset 27000 done in 164 seconds\n",
      "Early Stopping in epoch 63 !!!\n",
      "dataset 29000 done in 212 seconds\n",
      "Early Stopping in epoch 24 !!!\n",
      "dataset 31000 done in 104 seconds\n",
      "Early Stopping in epoch 53 !!!\n",
      "dataset 33000 done in 255 seconds\n",
      "Early Stopping in epoch 17 !!!\n",
      "dataset 35000 done in 84 seconds\n",
      "Early Stopping in epoch 23 !!!\n",
      "dataset 37000 done in 137 seconds\n",
      "Early Stopping in epoch 47 !!!\n",
      "dataset 39000 done in 247 seconds\n",
      "Early Stopping in epoch 24 !!!\n",
      "dataset 41000 done in 124 seconds\n",
      "Early Stopping in epoch 31 !!!\n",
      "dataset 43000 done in 170 seconds\n",
      "Early Stopping in epoch 18 !!!\n",
      "dataset 45000 done in 131 seconds\n",
      "Early Stopping in epoch 39 !!!\n",
      "dataset 47000 done in 256 seconds\n",
      "Early Stopping in epoch 15 !!!\n",
      "dataset 49000 done in 90 seconds\n",
      "Early Stopping in epoch 36 !!!\n",
      "dataset 51000 done in 234 seconds\n",
      "Early Stopping in epoch 17 !!!\n",
      "dataset 53000 done in 118 seconds\n",
      "Early Stopping in epoch 18 !!!\n",
      "dataset 55000 done in 110 seconds\n",
      "Early Stopping in epoch 20 !!!\n",
      "dataset 57000 done in 129 seconds\n",
      "Early Stopping in epoch 14 !!!\n",
      "dataset 59000 done in 96 seconds\n",
      "CPU times: user 2h 25min 43s, sys: 1h 38min 10s, total: 4h 3min 53s\n",
      "Wall time: 1h 7min 55s\n"
     ]
    }
   ],
   "source": [
    "%time train_loss, test_loss = plot_learning_curve(dnn, optimizer, 500, 128)"
   ]
  },
  {
   "cell_type": "code",
   "execution_count": null,
   "metadata": {},
   "outputs": [],
   "source": []
  },
  {
   "cell_type": "code",
   "execution_count": 8,
   "metadata": {
    "collapsed": true
   },
   "outputs": [
    {
     "data": {
      "text/plain": [
       "([0.101121809955731,\n",
       "  0.08520102390114788,\n",
       "  0.046996480272755756,\n",
       "  0.04958429403122269,\n",
       "  0.028605844942906453,\n",
       "  0.027686382917688407,\n",
       "  0.019596206517209346,\n",
       "  0.014519440341738455,\n",
       "  0.010401050530462528,\n",
       "  0.012004373939538463,\n",
       "  0.009750628504878208,\n",
       "  0.008240889476145421,\n",
       "  0.006165761932630694,\n",
       "  0.006399822218456705,\n",
       "  0.004648436920435934,\n",
       "  0.004938750132254783,\n",
       "  0.004577416335141461,\n",
       "  0.006196543096267851,\n",
       "  0.00592354463492002,\n",
       "  0.004643280976314022,\n",
       "  0.004737281757389114,\n",
       "  0.004781766826372923,\n",
       "  0.005285689756371802,\n",
       "  0.0039664455080895104,\n",
       "  0.0050331070174054245,\n",
       "  0.003986919962088532,\n",
       "  0.004505813422341255,\n",
       "  0.0039242064707950995,\n",
       "  0.0037531600754213247,\n",
       "  0.00384272983358313],\n",
       " [0.41584657957624915,\n",
       "  0.314637859538751,\n",
       "  0.26958879761468296,\n",
       "  0.24525790340483877,\n",
       "  0.21489595366904787,\n",
       "  0.1986503309578207,\n",
       "  0.18006446700129344,\n",
       "  0.16194448931174205,\n",
       "  0.1504266704465361,\n",
       "  0.14320212103918728,\n",
       "  0.1348481109665781,\n",
       "  0.13031366260339003,\n",
       "  0.1238738206077342,\n",
       "  0.11681538823889391,\n",
       "  0.11195195991931849,\n",
       "  0.10990640768560765,\n",
       "  0.10633466196567151,\n",
       "  0.10522095736677897,\n",
       "  0.10291487490986362,\n",
       "  0.09964219865697442,\n",
       "  0.09894041304473138,\n",
       "  0.09622499587742592,\n",
       "  0.0964560279342502,\n",
       "  0.09570036161019445,\n",
       "  0.09409568357818744,\n",
       "  0.09354919438212796,\n",
       "  0.09344396992414118,\n",
       "  0.09388637099568596,\n",
       "  0.09357099458992944,\n",
       "  0.09475177752168357])"
      ]
     },
     "execution_count": 8,
     "metadata": {},
     "output_type": "execute_result"
    }
   ],
   "source": [
    "train_loss, test_loss"
   ]
  },
  {
   "cell_type": "code",
   "execution_count": 10,
   "metadata": {},
   "outputs": [
    {
     "data": {
      "text/plain": [
       "Text(0,0.5,'accuracy')"
      ]
     },
     "execution_count": 10,
     "metadata": {},
     "output_type": "execute_result"
    },
    {
     "data": {
      "image/png": "[encoded data removed]",
      "text/plain": [
       "<matplotlib.figure.Figure at 0x7f54c4af18d0>"
      ]
     },
     "metadata": {
      "needs_background": "light"
     },
     "output_type": "display_data"
    }
   ],
   "source": [
    "plt.figure(figsize=(12, 8))\n",
    "plt.plot(range(1000, len(X_train) + 5, 2000), train_loss, linewidth=2, label=\"train\")\n",
    "plt.plot(range(1000, len(X_train) + 5, 2000), test_loss, color=\"orange\", linewidth=2, label=\"test\")\n",
    "# plt.xtick_labels(\"3\")\n",
    "# xticks([]), yticks([])\n",
    "plt.legend(loc=\"best\", fontsize=17)\n",
    "plt.xlabel(\"Training set size\", fontsize=16)\n",
    "plt.ylabel(\"loss\", fontsize=16)"
   ]
  },
  {
   "cell_type": "code",
   "execution_count": null,
   "metadata": {},
   "outputs": [],
   "source": []
  },
  {
   "cell_type": "code",
   "execution_count": null,
   "metadata": {},
   "outputs": [],
   "source": []
  },
  {
   "cell_type": "code",
   "execution_count": null,
   "metadata": {},
   "outputs": [],
   "source": []
  },
  {
   "cell_type": "code",
   "execution_count": null,
   "metadata": {},
   "outputs": [],
   "source": []
  },
  {
   "cell_type": "code",
   "execution_count": null,
   "metadata": {},
   "outputs": [],
   "source": []
  },
  {
   "cell_type": "code",
   "execution_count": null,
   "metadata": {},
   "outputs": [],
   "source": []
  },
  {
   "cell_type": "code",
   "execution_count": null,
   "metadata": {},
   "outputs": [],
   "source": []
  },
  {
   "cell_type": "code",
   "execution_count": null,
   "metadata": {},
   "outputs": [],
   "source": []
  },
  {
   "cell_type": "code",
   "execution_count": null,
   "metadata": {},
   "outputs": [],
   "source": []
  },
  {
   "cell_type": "code",
   "execution_count": null,
   "metadata": {},
   "outputs": [],
   "source": []
  }
 ],
 "metadata": {
  "kernelspec": {
   "display_name": "Python 3",
   "language": "python",
   "name": "python3"
  },
  "language_info": {
   "codemirror_mode": {
    "name": "ipython",
    "version": 3
   },
   "file_extension": ".py",
   "mimetype": "text/x-python",
   "name": "python",
   "nbconvert_exporter": "python",
   "pygments_lexer": "ipython3",
   "version": "3.5.4"
  }
 },
 "nbformat": 4,
 "nbformat_minor": 2
}
