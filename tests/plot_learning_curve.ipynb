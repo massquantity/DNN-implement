{
 "cells": [
  {
   "cell_type": "code",
   "execution_count": 1,
   "metadata": {},
   "outputs": [],
   "source": [
    "import os\n",
    "import sys\n",
    "sys.path.append(os.pardir)"
   ]
  },
  {
   "cell_type": "code",
   "execution_count": 2,
   "metadata": {},
   "outputs": [
    {
     "name": "stdout",
     "output_type": "stream",
     "text": [
      "/home/massquantity/Workspace/DNN_implementation\n"
     ]
    }
   ],
   "source": [
    "cd .."
   ]
  },
  {
   "cell_type": "code",
   "execution_count": 3,
   "metadata": {},
   "outputs": [],
   "source": [
    "import numpy as np\n",
    "import matplotlib.pyplot as plt\n",
    "%matplotlib inline\n",
    "plt.style.use(\"seaborn\")\n",
    "\n",
    "import random\n",
    "import time\n",
    "from DNN_implementation.data import cifar_data, mnist_2\n",
    "from DNN_implementation.model import Network, Network_mini_batch\n",
    "from DNN_implementation.train import train_DNN_minibatch\n",
    "from DNN_implementation import Sgd, Momentum, NesterovMomentum, Adam\n",
    "from DNN_implementation import Sigmoid, ReLU\n",
    "from DNN_implementation.evaluate import evaluate_batch"
   ]
  },
  {
   "cell_type": "code",
   "execution_count": 4,
   "metadata": {},
   "outputs": [],
   "source": [
    "def collect_metrics(X_train, y_train, num_epochs, optimizer, batch_size, network, X_test, y_test):\n",
    "    best_loss = np.infty\n",
    "    for epoch in range(1, num_epochs + 1):\n",
    "        random_mask = np.random.choice(len(X_train), len(X_train), replace=False)\n",
    "        X_train = X_train[random_mask]\n",
    "        y_train = y_train[random_mask]\n",
    "\n",
    "        for i in range(0, len(X_train), batch_size):\n",
    "            X_batch = X_train[i: i + batch_size]\n",
    "            y_batch = y_train[i: i + batch_size]\n",
    "            grad_w, grad_b = network.backprop(X_batch, y_batch)\n",
    "            optimizer.update(network.weights, network.biases, grad_w, grad_b)\n",
    "\n",
    "        train_loss, train_accuracy = evaluate_batch(X_train, y_train, network)\n",
    "        test_loss, test_accuracy = evaluate_batch(X_test, y_test, network)\n",
    "        if test_loss < best_loss:\n",
    "            best_loss = test_loss\n",
    "            count = 0\n",
    "        else:\n",
    "            count += 1\n",
    "\n",
    "        if count > 5:\n",
    "            print(\"Early Stopping in epoch %d !!!\" % epoch)\n",
    "            break\n",
    "    return train_accuracy, test_accuracy"
   ]
  },
  {
   "cell_type": "code",
   "execution_count": 5,
   "metadata": {},
   "outputs": [],
   "source": [
    "def plot_learning_curve(model, optimizer, num_epochs, batch_size):\n",
    "    train_accuracy, test_accuracy = [], []\n",
    "    for m in range(1000, len(X_train) + 5, 5000):\n",
    "        network = model\n",
    "        train_acc, test_acc = collect_metrics(X_train[:m], y_train[:m], num_epochs, optimizer, \n",
    "                                              batch_size, network, X_test, y_test)\n",
    "        del network\n",
    "        train_accuracy.append(train_acc)\n",
    "        test_accuracy.append(test_acc)\n",
    "        print(\"dataset %d done\" % m)\n",
    "    \n",
    "    return train_accuracy, test_accuracy"
   ]
  },
  {
   "cell_type": "code",
   "execution_count": 6,
   "metadata": {},
   "outputs": [],
   "source": [
    "(X_train, y_train), (X_test, y_test) = mnist_2.load_data()\n",
    "dnn = Network_mini_batch(sizes=[784, 50, 10], activation=\"relu\", dropout_rate=0.0,\n",
    "                             weight_initializer=\"he\")\n",
    "optimizer = Momentum(lr=1e-3, momentum=0.9, batch_size=128)"
   ]
  },
  {
   "cell_type": "code",
   "execution_count": null,
   "metadata": {},
   "outputs": [
    {
     "name": "stdout",
     "output_type": "stream",
     "text": [
      "Early Stopping in epoch 384 !!!\n",
      "dataset 1000 done\n",
      "Early Stopping in epoch 324 !!!\n",
      "dataset 6000 done\n"
     ]
    }
   ],
   "source": [
    "%time train_accuracy, test_accuracy = plot_learning_curve(dnn, optimizer, 500, 128)"
   ]
  },
  {
   "cell_type": "code",
   "execution_count": null,
   "metadata": {},
   "outputs": [],
   "source": []
  },
  {
   "cell_type": "code",
   "execution_count": 8,
   "metadata": {
    "collapsed": true
   },
   "outputs": [
    {
     "data": {
      "text/plain": [
       "([0.676,\n",
       "  0.8861666666666667,\n",
       "  0.9145454545454546,\n",
       "  0.9221875,\n",
       "  0.9312380952380952,\n",
       "  0.9403076923076923,\n",
       "  0.9472903225806452,\n",
       "  0.9532222222222222,\n",
       "  0.9580487804878048,\n",
       "  0.9618260869565217,\n",
       "  0.9654313725490196,\n",
       "  0.9690178571428572],\n",
       " [0.6314,\n",
       "  0.8674,\n",
       "  0.9001,\n",
       "  0.9141,\n",
       "  0.9262,\n",
       "  0.9338,\n",
       "  0.9411,\n",
       "  0.9467,\n",
       "  0.9508,\n",
       "  0.9542,\n",
       "  0.9577,\n",
       "  0.9619])"
      ]
     },
     "execution_count": 8,
     "metadata": {},
     "output_type": "execute_result"
    }
   ],
   "source": [
    "train_accuracy, test_accuracy"
   ]
  },
  {
   "cell_type": "code",
   "execution_count": 9,
   "metadata": {},
   "outputs": [
    {
     "data": {
      "text/plain": [
       "Text(0,0.5,'accuracy')"
      ]
     },
     "execution_count": 9,
     "metadata": {},
     "output_type": "execute_result"
    },
    {
     "data": {
      "image/png": "[encoded data removed]",
      "text/plain": [
       "<matplotlib.figure.Figure at 0x7fbc54883ac8>"
      ]
     },
     "metadata": {
      "needs_background": "light"
     },
     "output_type": "display_data"
    }
   ],
   "source": [
    "plt.figure(figsize=(12, 8))\n",
    "plt.plot(range(1000, len(X_train) + 5, 5000), train_accuracy, linewidth=2, label=\"train\")\n",
    "plt.plot(range(1000, len(X_train) + 5, 5000), test_accuracy, color=\"orange\", linewidth=2, label=\"test\")\n",
    "# plt.xtick_labels(\"3\")\n",
    "# xticks([]), yticks([])\n",
    "plt.legend(loc=\"best\", fontsize=17)\n",
    "plt.xlabel(\"Training set size\", fontsize=16)\n",
    "plt.ylabel(\"accuracy\", fontsize=16)"
   ]
  },
  {
   "cell_type": "code",
   "execution_count": null,
   "metadata": {},
   "outputs": [],
   "source": []
  },
  {
   "cell_type": "code",
   "execution_count": null,
   "metadata": {},
   "outputs": [],
   "source": []
  },
  {
   "cell_type": "code",
   "execution_count": null,
   "metadata": {},
   "outputs": [],
   "source": []
  },
  {
   "cell_type": "code",
   "execution_count": null,
   "metadata": {},
   "outputs": [],
   "source": []
  },
  {
   "cell_type": "code",
   "execution_count": null,
   "metadata": {},
   "outputs": [],
   "source": []
  },
  {
   "cell_type": "code",
   "execution_count": null,
   "metadata": {},
   "outputs": [],
   "source": []
  },
  {
   "cell_type": "code",
   "execution_count": null,
   "metadata": {},
   "outputs": [],
   "source": []
  },
  {
   "cell_type": "code",
   "execution_count": null,
   "metadata": {},
   "outputs": [],
   "source": []
  },
  {
   "cell_type": "code",
   "execution_count": null,
   "metadata": {},
   "outputs": [],
   "source": []
  }
 ],
 "metadata": {
  "kernelspec": {
   "display_name": "Python 3",
   "language": "python",
   "name": "python3"
  },
  "language_info": {
   "codemirror_mode": {
    "name": "ipython",
    "version": 3
   },
   "file_extension": ".py",
   "mimetype": "text/x-python",
   "name": "python",
   "nbconvert_exporter": "python",
   "pygments_lexer": "ipython3",
   "version": "3.5.4"
  }
 },
 "nbformat": 4,
 "nbformat_minor": 2
}
